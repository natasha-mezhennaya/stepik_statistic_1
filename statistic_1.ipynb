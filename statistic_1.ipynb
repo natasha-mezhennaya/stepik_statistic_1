{
 "cells": [
  {
   "cell_type": "markdown",
   "metadata": {},
   "source": [
    "# Основы статистики. Часть 1"
   ]
  },
  {
   "cell_type": "markdown",
   "metadata": {},
   "source": [
    "## Рассчитайте среднеквадратическое отклонение данных выборочных значений:\n",
    "\n",
    "1 5 2 7 1 9 3 8 5 9\n",
    "\n",
    "Не забудьте, что при расчете дисперсии и среднеквадратичного отклонения мы вычитаем единицу из общего числа наблюдений!"
   ]
  },
  {
   "cell_type": "code",
   "execution_count": 7,
   "metadata": {},
   "outputs": [
    {
     "name": "stdout",
     "output_type": "stream",
     "text": [
      "5.0 10.0 3.1622776601683795\n"
     ]
    }
   ],
   "source": [
    "import numpy as np\n",
    "a = np.fromstring('1 5 2 7 1 9 3 8 5 9', sep=' ')\n",
    "\n",
    "#среднее арифметическое\n",
    "Mx = np.mean(a)\n",
    "\n",
    "# дисперсия, для n-1\n",
    "D = np.var(a, ddof=1)\n",
    "\n",
    "# среднеквадратичное (стандартное) отклонение\n",
    "sd = np.std(a, ddof=1)\n",
    "\n",
    "print(Mx, D, sd)"
   ]
  },
  {
   "cell_type": "markdown",
   "metadata": {},
   "source": [
    "## Квантили распределения"
   ]
  },
  {
   "cell_type": "code",
   "execution_count": 38,
   "metadata": {},
   "outputs": [
    {
     "name": "stdout",
     "output_type": "stream",
     "text": [
      "30\n",
      "среднее: 170.4\n",
      "медиана: 170.5\n",
      "1 квантиль: 167.0\n",
      "2 квантиль: 170.5\n",
      "3 квантиль: 173.0\n"
     ]
    }
   ],
   "source": [
    "import numpy as np\n",
    "a = np.fromstring('157 159 161 164 165 166 167 167 167 168 169 169 170 170 170 171 171 172 172 172 172 173 173 175 175 177 178 178 179 185', sep=' ')\n",
    "print(len(a))\n",
    "print('среднее:', np.mean(a))\n",
    "print('медиана:', np.median(a))\n",
    "print('1 квантиль:', np.quantile(a, 0.25))\n",
    "print('2 квантиль:', np.quantile(a, 0.5))\n",
    "print('3 квантиль:', np.quantile(a, 0.75))\n"
   ]
  },
  {
   "cell_type": "markdown",
   "metadata": {},
   "source": [
    "## График box-plot\n",
    "\n",
    "* прямоугольник от 1 до 3 квартиля\n",
    "* внутри медиана\n",
    "\n",
    "* квартильное расстояние 3кв - 1 кв\n",
    "* 1.5 квартильных расстояния откладываем вверх и вниз\n",
    "* точки которые не вошли в 1.5 квартильных расстояния отмечаются отдельно"
   ]
  },
  {
   "cell_type": "code",
   "execution_count": 36,
   "metadata": {},
   "outputs": [
    {
     "name": "stdout",
     "output_type": "stream",
     "text": [
      "Populating the interactive namespace from numpy and matplotlib\n"
     ]
    },
    {
     "data": {
      "image/png": "[encoded data removed]",
      "text/plain": [
       "<Figure size 360x432 with 1 Axes>"
      ]
     },
     "metadata": {
      "needs_background": "light"
     },
     "output_type": "display_data"
    }
   ],
   "source": [
    "import numpy as np\n",
    "import matplotlib.pyplot as plt\n",
    "%pylab inline\n",
    "\n",
    "data_to_plot = np.array([157,159,161,164,165,166,167,167,167,168,169,170,170,170,171,171,172,172,172,172,173,173,175,175,177,178,178,179,185])\n",
    "\n",
    "plt.figure(1,figsize=(5,6))\n",
    "plt.subplot(111)\n",
    "plt.axis([0,2,155,190])\n",
    "plt.boxplot(data_to_plot, showfliers=True)\n",
    "\n",
    "plt.grid()\n",
    "plt.show()"
   ]
  },
  {
   "cell_type": "code",
   "execution_count": null,
   "metadata": {},
   "outputs": [],
   "source": []
  },
  {
   "cell_type": "code",
   "execution_count": null,
   "metadata": {},
   "outputs": [],
   "source": []
  }
 ],
 "metadata": {
  "kernelspec": {
   "display_name": "Python 3",
   "language": "python",
   "name": "python3"
  },
  "language_info": {
   "codemirror_mode": {
    "name": "ipython",
    "version": 3
   },
   "file_extension": ".py",
   "mimetype": "text/x-python",
   "name": "python",
   "nbconvert_exporter": "python",
   "pygments_lexer": "ipython3",
   "version": "3.7.3"
  }
 },
 "nbformat": 4,
 "nbformat_minor": 4
}
